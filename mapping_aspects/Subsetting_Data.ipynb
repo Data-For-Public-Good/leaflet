{
 "cells": [
  {
   "cell_type": "markdown",
   "metadata": {},
   "source": [
    "### Subsetting data by year per aspect"
   ]
  },
  {
   "cell_type": "code",
   "execution_count": 1,
   "metadata": {},
   "outputs": [],
   "source": [
    "import pandas"
   ]
  },
  {
   "cell_type": "code",
   "execution_count": 2,
   "metadata": {},
   "outputs": [],
   "source": [
    "file = pandas.read_csv('index_clean_raw.csv')"
   ]
  },
  {
   "cell_type": "code",
   "execution_count": 11,
   "metadata": {},
   "outputs": [],
   "source": [
    "year_2005 = file[file['year'] == 2005]\n",
    "year_2006 = file[file['year'] == 2006]\n",
    "year_2007 = file[file['year'] == 2007]\n",
    "year_2008 = file[file['year'] == 2008]\n",
    "year_2009 = file[file['year'] == 2009]\n",
    "year_2010 = file[file['year'] == 2010]\n",
    "year_2011 = file[file['year'] == 2011]\n",
    "year_2012 = file[file['year'] == 2012]\n",
    "year_2013 = file[file['year'] == 2013]\n",
    "year_2014 = file[file['year'] == 2014]\n",
    "year_2015 = file[file['year'] == 2015]"
   ]
  },
  {
   "cell_type": "code",
   "execution_count": 17,
   "metadata": {},
   "outputs": [],
   "source": [
    "artists_2005 = year_2005[['zip', 'year', 'independent_artists']]\n",
    "artists_2006 = year_2006[['zip', 'year', 'independent_artists']]\n",
    "artists_2007 = year_2007[['zip', 'year', 'independent_artists']]\n",
    "artists_2008 = year_2008[['zip', 'year', 'independent_artists']]\n",
    "artists_2009 = year_2009[['zip', 'year', 'independent_artists']]\n",
    "artists_2010 = year_2010[['zip', 'year', 'independent_artists']]\n",
    "artists_2011 = year_2011[['zip', 'year', 'independent_artists']]\n",
    "artists_2012 = year_2012[['zip', 'year', 'independent_artists']]\n",
    "artists_2013 = year_2013[['zip', 'year', 'independent_artists']]\n",
    "artists_2014 = year_2014[['zip', 'year', 'independent_artists']]\n",
    "artists_2015 = year_2015[['zip', 'year', 'independent_artists']]"
   ]
  },
  {
   "cell_type": "code",
   "execution_count": 20,
   "metadata": {},
   "outputs": [],
   "source": [
    "artists_2005.to_csv('artists_2005.csv')\n",
    "artists_2006.to_csv('artists_2006.csv')\n",
    "artists_2007.to_csv('artists_2007.csv')\n",
    "artists_2008.to_csv('artists_2008.csv')\n",
    "artists_2009.to_csv('artists_2009.csv')\n",
    "artists_2010.to_csv('artists_2010.csv')\n",
    "artists_2011.to_csv('artists_2011.csv')\n",
    "artists_2012.to_csv('artists_2012.csv')\n",
    "artists_2013.to_csv('artists_2013.csv')\n",
    "artists_2014.to_csv('artists_2014.csv')\n",
    "artists_2015.to_csv('artists_2015.csv')"
   ]
  },
  {
   "cell_type": "code",
   "execution_count": null,
   "metadata": {},
   "outputs": [],
   "source": []
  }
 ],
 "metadata": {
  "kernelspec": {
   "display_name": "Python 3",
   "language": "python",
   "name": "python3"
  },
  "language_info": {
   "codemirror_mode": {
    "name": "ipython",
    "version": 3
   },
   "file_extension": ".py",
   "mimetype": "text/x-python",
   "name": "python",
   "nbconvert_exporter": "python",
   "pygments_lexer": "ipython3",
   "version": "3.6.7"
  }
 },
 "nbformat": 4,
 "nbformat_minor": 2
}
